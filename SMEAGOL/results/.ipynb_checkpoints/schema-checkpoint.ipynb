{
 "cells": [
  {
   "cell_type": "code",
   "execution_count": 12,
   "metadata": {},
   "outputs": [],
   "source": [
    "import pandas as pd\n",
    "import plotly.express as px\n",
    "import sqlite3"
   ]
  },
  {
   "cell_type": "code",
   "execution_count": 13,
   "metadata": {},
   "outputs": [],
   "source": [
    "conn = sqlite3.connect('data_structure.db')"
   ]
  },
  {
   "cell_type": "code",
   "execution_count": 39,
   "metadata": {},
   "outputs": [
    {
     "name": "stderr",
     "output_type": "stream",
     "text": [
      "/tmp/ipykernel_5650/334187751.py:5: SettingWithCopyWarning: \n",
      "A value is trying to be set on a copy of a slice from a DataFrame.\n",
      "Try using .loc[row_indexer,col_indexer] = value instead\n",
      "\n",
      "See the caveats in the documentation: https://pandas.pydata.org/pandas-docs/stable/user_guide/indexing.html#returning-a-view-versus-a-copy\n",
      "  df_insert['tpm'] = df_insert['collection_name']\n",
      "/tmp/ipykernel_5650/334187751.py:6: SettingWithCopyWarning: \n",
      "A value is trying to be set on a copy of a slice from a DataFrame.\n",
      "Try using .loc[row_indexer,col_indexer] = value instead\n",
      "\n",
      "See the caveats in the documentation: https://pandas.pydata.org/pandas-docs/stable/user_guide/indexing.html#returning-a-view-versus-a-copy\n",
      "  df_insert['collection_name'] = df_insert['type']\n",
      "/tmp/ipykernel_5650/334187751.py:7: SettingWithCopyWarning: \n",
      "A value is trying to be set on a copy of a slice from a DataFrame.\n",
      "Try using .loc[row_indexer,col_indexer] = value instead\n",
      "\n",
      "See the caveats in the documentation: https://pandas.pydata.org/pandas-docs/stable/user_guide/indexing.html#returning-a-view-versus-a-copy\n",
      "  df_insert['type'] = df_insert['tpm']\n"
     ]
    }
   ],
   "source": [
    "df_attributes = pd.read_sql_query('select * from attribute;', conn)\n",
    "df_insert = df_attributes[df_attributes.source == \"insert\"]\n",
    "df_schema = df_attributes[df_attributes.source == \"schema\"]\n",
    "\n",
    "df_insert['tpm'] = df_insert['collection_name']\n",
    "df_insert['collection_name'] = df_insert['type']\n",
    "df_insert['type'] = df_insert['tpm']\n",
    "df_insert = df_insert.drop('tpm', axis='columns')\n",
    "df_attributes = pd.concat([df_schema, df_insert])\n",
    "df_attributes = df_attributes.drop_duplicates(['collection_name', 'qualified_name', 'project_name'])\n",
    "df_attributes['depth'] = df_attributes['qualified_name'].apply(lambda x: x.count('.'))"
   ]
  },
  {
   "cell_type": "code",
   "execution_count": 40,
   "metadata": {},
   "outputs": [
    {
     "data": {
      "text/plain": [
       "project_name                  collection_name\n",
       "17koa/koa-generator-examples  User               11\n",
       "3eif/eartensifier             Bot                 9\n",
       "                              Playlist            7\n",
       "                              Server              3\n",
       "                              User                7\n",
       "                                                 ..\n",
       "zhuweiyou/weixin-game-helper  Quiz               16\n",
       "zone-eu/zone-mta              suppressionlist     1\n",
       "zt3h/maroapi                  auctions            3\n",
       "                              bazaar              8\n",
       "                              leaderboards        3\n",
       "Name: file_path, Length: 1867, dtype: int64"
      ]
     },
     "execution_count": 40,
     "metadata": {},
     "output_type": "execute_result"
    }
   ],
   "source": [
    "df_attributes.groupby(['project_name', 'collection_name']).count()['file_path']"
   ]
  },
  {
   "cell_type": "markdown",
   "metadata": {},
   "source": [
    "# total fields"
   ]
  },
  {
   "cell_type": "code",
   "execution_count": 98,
   "metadata": {},
   "outputs": [],
   "source": [
    "vec = df_attributes.groupby(['project_name']).count()['file_path']"
   ]
  },
  {
   "cell_type": "code",
   "execution_count": 99,
   "metadata": {},
   "outputs": [
    {
     "data": {
      "text/plain": [
       "1"
      ]
     },
     "execution_count": 99,
     "metadata": {},
     "output_type": "execute_result"
    }
   ],
   "source": [
    "vec.min()"
   ]
  },
  {
   "cell_type": "code",
   "execution_count": 100,
   "metadata": {},
   "outputs": [
    {
     "data": {
      "text/plain": [
       "10.0"
      ]
     },
     "execution_count": 100,
     "metadata": {},
     "output_type": "execute_result"
    }
   ],
   "source": [
    "vec.quantile(0.25)"
   ]
  },
  {
   "cell_type": "code",
   "execution_count": 101,
   "metadata": {},
   "outputs": [
    {
     "data": {
      "text/plain": [
       "37.0"
      ]
     },
     "execution_count": 101,
     "metadata": {},
     "output_type": "execute_result"
    }
   ],
   "source": [
    "vec.quantile(0.5)"
   ]
  },
  {
   "cell_type": "code",
   "execution_count": 102,
   "metadata": {},
   "outputs": [
    {
     "data": {
      "text/plain": [
       "106.25"
      ]
     },
     "execution_count": 102,
     "metadata": {},
     "output_type": "execute_result"
    }
   ],
   "source": [
    "vec.quantile(0.75)"
   ]
  },
  {
   "cell_type": "code",
   "execution_count": 103,
   "metadata": {},
   "outputs": [
    {
     "data": {
      "text/plain": [
       "3568"
      ]
     },
     "execution_count": 103,
     "metadata": {},
     "output_type": "execute_result"
    }
   ],
   "source": [
    "vec.max()"
   ]
  },
  {
   "cell_type": "markdown",
   "metadata": {},
   "source": [
    "# total collections "
   ]
  },
  {
   "cell_type": "code",
   "execution_count": 92,
   "metadata": {},
   "outputs": [
    {
     "data": {
      "text/plain": [
       "1867"
      ]
     },
     "execution_count": 92,
     "metadata": {},
     "output_type": "execute_result"
    }
   ],
   "source": [
    "len(df_attributes.drop_duplicates(['project_name', 'collection_name']).index)"
   ]
  },
  {
   "cell_type": "markdown",
   "metadata": {},
   "source": [
    "# total attributes collected per method"
   ]
  },
  {
   "cell_type": "code",
   "execution_count": 42,
   "metadata": {},
   "outputs": [
    {
     "data": {
      "text/plain": [
       "source\n",
       "insert     1879\n",
       "schema    35627\n",
       "Name: type, dtype: int64"
      ]
     },
     "execution_count": 42,
     "metadata": {},
     "output_type": "execute_result"
    }
   ],
   "source": [
    "df_attributes.groupby('source').count()['type']"
   ]
  },
  {
   "cell_type": "markdown",
   "metadata": {},
   "source": [
    "# collection per project"
   ]
  },
  {
   "cell_type": "code",
   "execution_count": 59,
   "metadata": {},
   "outputs": [],
   "source": [
    "vec = df_attributes.drop_duplicates(['project_name', 'collection_name']).groupby('project_name').count()['type']"
   ]
  },
  {
   "cell_type": "code",
   "execution_count": 104,
   "metadata": {},
   "outputs": [
    {
     "data": {
      "text/plain": [
       "'actions/example-services'"
      ]
     },
     "execution_count": 104,
     "metadata": {},
     "output_type": "execute_result"
    }
   ],
   "source": [
    "vec.idxmin()"
   ]
  },
  {
   "cell_type": "code",
   "execution_count": 60,
   "metadata": {},
   "outputs": [
    {
     "data": {
      "text/plain": [
       "1"
      ]
     },
     "execution_count": 60,
     "metadata": {},
     "output_type": "execute_result"
    }
   ],
   "source": [
    "vec.min()"
   ]
  },
  {
   "cell_type": "code",
   "execution_count": 61,
   "metadata": {},
   "outputs": [
    {
     "data": {
      "text/plain": [
       "2.0"
      ]
     },
     "execution_count": 61,
     "metadata": {},
     "output_type": "execute_result"
    }
   ],
   "source": [
    "vec.quantile(0.25)"
   ]
  },
  {
   "cell_type": "code",
   "execution_count": 62,
   "metadata": {},
   "outputs": [
    {
     "data": {
      "text/plain": [
       "3.0"
      ]
     },
     "execution_count": 62,
     "metadata": {},
     "output_type": "execute_result"
    }
   ],
   "source": [
    "vec.quantile(0.5)"
   ]
  },
  {
   "cell_type": "code",
   "execution_count": 63,
   "metadata": {},
   "outputs": [
    {
     "data": {
      "text/plain": [
       "7.0"
      ]
     },
     "execution_count": 63,
     "metadata": {},
     "output_type": "execute_result"
    }
   ],
   "source": [
    "vec.quantile(0.75)"
   ]
  },
  {
   "cell_type": "code",
   "execution_count": 64,
   "metadata": {},
   "outputs": [
    {
     "data": {
      "text/plain": [
       "101"
      ]
     },
     "execution_count": 64,
     "metadata": {},
     "output_type": "execute_result"
    }
   ],
   "source": [
    "vec.max()"
   ]
  },
  {
   "cell_type": "markdown",
   "metadata": {},
   "source": [
    "# collection size "
   ]
  },
  {
   "cell_type": "code",
   "execution_count": 67,
   "metadata": {},
   "outputs": [],
   "source": [
    "vec = df_attributes.groupby(['project_name', 'collection_name']).count()['depth']"
   ]
  },
  {
   "cell_type": "code",
   "execution_count": 68,
   "metadata": {},
   "outputs": [
    {
     "data": {
      "text/plain": [
       "1"
      ]
     },
     "execution_count": 68,
     "metadata": {},
     "output_type": "execute_result"
    }
   ],
   "source": [
    "vec.min()"
   ]
  },
  {
   "cell_type": "code",
   "execution_count": 69,
   "metadata": {},
   "outputs": [
    {
     "data": {
      "text/plain": [
       "4.0"
      ]
     },
     "execution_count": 69,
     "metadata": {},
     "output_type": "execute_result"
    }
   ],
   "source": [
    "vec.quantile(0.25)"
   ]
  },
  {
   "cell_type": "code",
   "execution_count": 70,
   "metadata": {},
   "outputs": [
    {
     "data": {
      "text/plain": [
       "10.0"
      ]
     },
     "execution_count": 70,
     "metadata": {},
     "output_type": "execute_result"
    }
   ],
   "source": [
    "vec.quantile(0.5)"
   ]
  },
  {
   "cell_type": "code",
   "execution_count": 71,
   "metadata": {},
   "outputs": [
    {
     "data": {
      "text/plain": [
       "23.0"
      ]
     },
     "execution_count": 71,
     "metadata": {},
     "output_type": "execute_result"
    }
   ],
   "source": [
    "vec.quantile(0.75)"
   ]
  },
  {
   "cell_type": "code",
   "execution_count": 72,
   "metadata": {},
   "outputs": [
    {
     "data": {
      "text/plain": [
       "644"
      ]
     },
     "execution_count": 72,
     "metadata": {},
     "output_type": "execute_result"
    }
   ],
   "source": [
    "vec.max()"
   ]
  },
  {
   "cell_type": "markdown",
   "metadata": {},
   "source": [
    "# collection depth"
   ]
  },
  {
   "cell_type": "code",
   "execution_count": 74,
   "metadata": {},
   "outputs": [],
   "source": [
    "vec = df_attributes.groupby(['project_name', 'collection_name'])['depth'].max()"
   ]
  },
  {
   "cell_type": "code",
   "execution_count": 75,
   "metadata": {},
   "outputs": [
    {
     "data": {
      "text/plain": [
       "0"
      ]
     },
     "execution_count": 75,
     "metadata": {},
     "output_type": "execute_result"
    }
   ],
   "source": [
    "vec.min()"
   ]
  },
  {
   "cell_type": "code",
   "execution_count": 76,
   "metadata": {},
   "outputs": [
    {
     "data": {
      "text/plain": [
       "0.0"
      ]
     },
     "execution_count": 76,
     "metadata": {},
     "output_type": "execute_result"
    }
   ],
   "source": [
    "vec.quantile(0.25)"
   ]
  },
  {
   "cell_type": "code",
   "execution_count": 77,
   "metadata": {},
   "outputs": [
    {
     "data": {
      "text/plain": [
       "1.0"
      ]
     },
     "execution_count": 77,
     "metadata": {},
     "output_type": "execute_result"
    }
   ],
   "source": [
    "vec.quantile(0.5)"
   ]
  },
  {
   "cell_type": "code",
   "execution_count": 78,
   "metadata": {},
   "outputs": [
    {
     "data": {
      "text/plain": [
       "1.0"
      ]
     },
     "execution_count": 78,
     "metadata": {},
     "output_type": "execute_result"
    }
   ],
   "source": [
    "vec.quantile(0.75)"
   ]
  },
  {
   "cell_type": "code",
   "execution_count": 79,
   "metadata": {},
   "outputs": [
    {
     "data": {
      "text/plain": [
       "8"
      ]
     },
     "execution_count": 79,
     "metadata": {},
     "output_type": "execute_result"
    }
   ],
   "source": [
    "vec.max()"
   ]
  },
  {
   "cell_type": "markdown",
   "metadata": {},
   "source": [
    "# index declaration"
   ]
  },
  {
   "cell_type": "code",
   "execution_count": 57,
   "metadata": {},
   "outputs": [
    {
     "data": {
      "text/plain": [
       "array(['User', 'User', 'Activity', 'Activity', 'Attachment', 'Attachment',\n",
       "       'Board', 'Board', 'BoardMemberRelation', 'BoardMemberRelation',\n",
       "       'Card', 'Card', 'Card', 'CardLabelRelation', 'CardLabelRelation',\n",
       "       'CardLabelRelation', 'CardSourceRelation', 'CardSourceRelation',\n",
       "       'Checklist', 'Checklist', 'ChecklistItem', 'ChecklistItem',\n",
       "       'ChecklistItem', 'Comment', 'Comment', 'CommentSourceRelation',\n",
       "       'CommentSourceRelation', 'Label', 'List', 'List', 'Notification',\n",
       "       'SyncConfig', 'SyncConfig', 'SyncConfig', 'Vote', 'Vote', 'user',\n",
       "       'history', 'Kifu', 'Verse', 'Address', 'Address', 'Address',\n",
       "       'Address', 'Address', 'AddressTx', 'AddressTx', 'AddressTx',\n",
       "       'AddressTx', 'Markets', 'Peers', 'Tx', 'Tx', 'Tx', 'Tx', 'Tx',\n",
       "       'InternalTransaction', 'InternalTransaction', 'Block', 'Account',\n",
       "       'Contract', 'Contract', 'Transaction', 'TokenTransfer',\n",
       "       'BlockStat', 'PasswordResetToken', 'RefreshToken', 'User', 'Verse',\n",
       "       'trailing-trade-grid-trade-orders', 'trailing-trade-manual-orders',\n",
       "       'collection', 'User', 'collection', '_mongoCollection',\n",
       "       '_mongoCollection', 'Opportunities', 'formio-features-test',\n",
       "       'Link', 'Stats', 'ActionToken', 'DataStream', 'SpeckleObject',\n",
       "       'SpeckleObject', 'SpeckleObject', 'User', 'UserAppClient',\n",
       "       'UserAppClient', 'apps', 'members', 'members', 'jobs', 'jobs',\n",
       "       'long_tasks', 'nested1', 'nested2', 'b', 'Comment', 'Car', 'Run',\n",
       "       'Run', 'Environment', 'Track', 'Track', 'User', 'UserPassport',\n",
       "       'Verify', 'collection', 'File', 'User', 'Tweet', 'Metadata',\n",
       "       'Metadata', 'Metadata', 'Metadata', 'Metadata', 'Metadata',\n",
       "       'guildSettings', 'userSettings', 'botSettings', 'User', 'Feed',\n",
       "       'User', 'Alias', 'Article', 'Article', 'Content', 'Episode',\n",
       "       'Episode', 'Folder', 'Follow', 'Follow', 'Follow', 'Follow',\n",
       "       'Note', 'Podcast', 'Podcast', 'RSS', 'RSS', 'RSS', 'RSS', 'RSS',\n",
       "       'Tag', 'User', 'User', 'tags', 'tags', 'assets', 'cookies',\n",
       "       'userHistory', 'Organization', 'Project', 'Support', 'Support',\n",
       "       'Support', 'User', 'User', 'User', 'User', 'tokens', 'Link',\n",
       "       'Stats', 'collection', 'Action', 'Action', 'Action', 'Record',\n",
       "       'Record', 'Record', 'Record', 'User', 'Comment', 'Comment',\n",
       "       'emailSubscription', 'emailSubscription', 'LastWatchedTime',\n",
       "       'LastWatchedTime', 'PushEndpoint', 'PushSubscription',\n",
       "       'PushSubscription', 'React', 'React', 'SiteVisit', 'SiteVisit',\n",
       "       'Subscription', 'Subscription', 'Upload', 'View', 'Post', 'User',\n",
       "       'User', 'User', 'Trick', 'Trick', 'AdminApprovalPost',\n",
       "       'AdminApprovalPost', 'CustomHashtagModel',\n",
       "       'customHashtagTwitterPosts', 'customHashtagTwitterPosts',\n",
       "       'customHashtagTwitterPosts', 'CustomHashtagModel',\n",
       "       'customhashtagtwitterposts', 'customhashtagtwitterposts',\n",
       "       'customhashtagtwitterposts', 'HashtagGroup', 'HashtagGroup',\n",
       "       'HashtagGroup', 'HashtagGroup', 'DailyMotionPosts',\n",
       "       'DailyMotionPosts', 'DailyMotionPosts', 'DailyMotionPosts',\n",
       "       'DraftPost', 'DraftPost', 'FacebookPosts', 'FacebookPosts',\n",
       "       'FacebookPosts', 'FacebookPosts', 'FacebookPosts', 'FacebookPosts',\n",
       "       'FlickrPosts', 'FlickrPosts', 'FlickrPosts', 'FlickrPosts',\n",
       "       'GiphyPosts', 'GiphyPosts', 'GiphyPosts', 'GiphyPosts',\n",
       "       'HashtagGroup', 'HashtagGroup', 'HashtagGroup', 'HashtagGroup',\n",
       "       'ImgurPosts', 'ImgurPosts', 'ImgurPosts', 'ImgurPosts',\n",
       "       'InstagramBusinessPosts', 'InstagramBusinessPosts',\n",
       "       'InstagramBusinessPosts', 'InstagramBusinessPosts',\n",
       "       'InstagramBusinessPosts', 'InstagramBusinessPosts',\n",
       "       'InstagramBusinessPosts', 'InstagramPosts', 'InstagramPosts',\n",
       "       'InstagramPosts', 'InstagramPosts', 'InstagramStoryInsights',\n",
       "       'InstagramStoryInsights', 'InstagramStoryInsights',\n",
       "       'InstagramStoryInsights', 'InstagramBusinessPosts',\n",
       "       'InstagramBusinessPosts', 'InstagramBusinessPosts',\n",
       "       'InstagramBusinessPosts', 'InstagramBusinessPosts',\n",
       "       'InstagramBusinessPosts', 'InstagramBusinessPosts',\n",
       "       'InstagramPosts', 'InstagramPosts', 'InstagramPosts',\n",
       "       'InstagramPosts', 'InstagramStoryInsights',\n",
       "       'InstagramStoryInsights', 'InstagramStoryInsights',\n",
       "       'InstagramStoryInsights', 'NewsApiPosts', 'NewsApiPosts',\n",
       "       'Notifications', 'Notifications', 'Notifications', 'Notifications',\n",
       "       'PinterestPins', 'PinterestPins', 'PinterestPins', 'PinterestPins',\n",
       "       'PinterestPins', 'PixaBayPosts', 'PixaBayPosts', 'PixaBayPosts',\n",
       "       'PixaBayPosts', 'PublishedPosts', 'PublishedPosts',\n",
       "       'PublishedPosts', 'PublishedPosts', 'TeamInsights', 'TeamInsights',\n",
       "       'TumblrPosts', 'TumblrPosts', 'TumblrPosts', 'TumblrPosts',\n",
       "       'TumblrPosts', 'TwitterArchivePost', 'TwitterArchivePost',\n",
       "       'TwitterArchivePost', 'TwitterArchivePost', 'TwitterInsights',\n",
       "       'TwitterMessages', 'TwitterMessages', 'TwitterMessages',\n",
       "       'TwitterMessages', 'TwitterMessages', 'TwitterMessages',\n",
       "       'TwitterPosts', 'TwitterPosts', 'TwitterPosts', 'TwitterPosts',\n",
       "       'TwitterInsights', 'TwitterArchivePost', 'TwitterArchivePost',\n",
       "       'TwitterArchivePost', 'TwitterArchivePost', 'TwitterMessages',\n",
       "       'TwitterMessages', 'TwitterMessages', 'TwitterMessages',\n",
       "       'TwitterMessages', 'TwitterMessages', 'TwitterPosts',\n",
       "       'TwitterPosts', 'TwitterPosts', 'TwitterPosts', 'YoutubePosts',\n",
       "       'YoutubePosts', 'YoutubePosts', 'YoutubePosts', 'twitterusers',\n",
       "       'AdminApprovalPost', 'AdminApprovalPost', 'CustomHashtagModel',\n",
       "       'customHashtagTwitterPosts', 'customHashtagTwitterPosts',\n",
       "       'customHashtagTwitterPosts', 'CustomHashtagModel',\n",
       "       'customhashtagtwitterposts', 'customhashtagtwitterposts',\n",
       "       'customhashtagtwitterposts', 'HashtagGroup', 'HashtagGroup',\n",
       "       'HashtagGroup', 'HashtagGroup', 'DailyMotionPosts',\n",
       "       'DailyMotionPosts', 'DailyMotionPosts', 'DailyMotionPosts',\n",
       "       'DraftPost', 'DraftPost', 'FacebookPosts', 'FacebookPosts',\n",
       "       'FacebookPosts', 'FacebookPosts', 'FacebookPosts', 'FacebookPosts',\n",
       "       'FlickrPosts', 'FlickrPosts', 'FlickrPosts', 'FlickrPosts',\n",
       "       'GiphyPosts', 'GiphyPosts', 'GiphyPosts', 'GiphyPosts',\n",
       "       'HashtagGroup', 'HashtagGroup', 'HashtagGroup', 'HashtagGroup',\n",
       "       'ImgurPosts', 'ImgurPosts', 'ImgurPosts', 'ImgurPosts',\n",
       "       'InstagramBusinessPosts', 'InstagramBusinessPosts',\n",
       "       'InstagramBusinessPosts', 'InstagramBusinessPosts',\n",
       "       'InstagramBusinessPosts', 'InstagramBusinessPosts',\n",
       "       'InstagramBusinessPosts', 'InstagramPosts', 'InstagramPosts',\n",
       "       'InstagramPosts', 'InstagramPosts', 'InstagramStoryInsights',\n",
       "       'InstagramStoryInsights', 'InstagramStoryInsights',\n",
       "       'InstagramStoryInsights', 'InstagramBusinessPosts',\n",
       "       'InstagramBusinessPosts', 'InstagramBusinessPosts',\n",
       "       'InstagramBusinessPosts', 'InstagramBusinessPosts',\n",
       "       'InstagramBusinessPosts', 'InstagramBusinessPosts',\n",
       "       'InstagramPosts', 'InstagramPosts', 'InstagramPosts',\n",
       "       'InstagramPosts', 'InstagramStoryInsights',\n",
       "       'InstagramStoryInsights', 'InstagramStoryInsights',\n",
       "       'InstagramStoryInsights', 'NewsApiPosts', 'NewsApiPosts',\n",
       "       'Notifications', 'Notifications', 'Notifications', 'Notifications',\n",
       "       'PinterestPins', 'PinterestPins', 'PinterestPins', 'PinterestPins',\n",
       "       'PinterestPins', 'PixaBayPosts', 'PixaBayPosts', 'PixaBayPosts',\n",
       "       'PixaBayPosts', 'PublishedPosts', 'PublishedPosts',\n",
       "       'PublishedPosts', 'PublishedPosts', 'TeamInsights', 'TeamInsights',\n",
       "       'TumblrPosts', 'TumblrPosts', 'TumblrPosts', 'TumblrPosts',\n",
       "       'TumblrPosts', 'TwitterArchivePost', 'TwitterArchivePost',\n",
       "       'TwitterArchivePost', 'TwitterArchivePost', 'TwitterInsights',\n",
       "       'TwitterMessages', 'TwitterMessages', 'TwitterMessages',\n",
       "       'TwitterMessages', 'TwitterMessages', 'TwitterMessages',\n",
       "       'TwitterPosts', 'TwitterPosts', 'TwitterPosts', 'TwitterPosts',\n",
       "       'TwitterInsights', 'TwitterArchivePost', 'TwitterArchivePost',\n",
       "       'TwitterArchivePost', 'TwitterArchivePost', 'TwitterMessages',\n",
       "       'TwitterMessages', 'TwitterMessages', 'TwitterMessages',\n",
       "       'TwitterMessages', 'TwitterMessages', 'TwitterPosts',\n",
       "       'TwitterPosts', 'TwitterPosts', 'TwitterPosts', 'YoutubePosts',\n",
       "       'YoutubePosts', 'YoutubePosts', 'YoutubePosts', 'twitterusers',\n",
       "       'Message', 'Asset', 'Group', 'Label', 'Player', 'Player', 'Player',\n",
       "       'Player', 'guildSettings', 'userSettings', 'botSettings', 'users',\n",
       "       'groups', 'users', 'groups', 'Exercises', 'Issue', 'Homebrew',\n",
       "       'Homebrew', 'apiKeys', 'profileStore', 'profileStore', 'usernames',\n",
       "       'members', 'guilds', 'guildMembers', 'items', 'bazaar',\n",
       "       'hypixelPlayers', 'profileCache', 'user', 'storage', 'Test',\n",
       "       'PasswordReset', 'PasswordReset', 'cart', 'cart', 'cart', 'cart',\n",
       "       'categories', 'downloadHistory', 'mail', 'modules', 'newsletters',\n",
       "       'orders', 'productsPreview', 'products', 'promo', 'territory',\n",
       "       'users', 'users', 'streams', 'streams', 'streams', 'objects',\n",
       "       'deliveryQueue', 'objects', 'User', 'Usuario', 'User', 'Card',\n",
       "       'Collection', 'Deck', 'Attachments', 'CalendarEvents',\n",
       "       'CalendarEvents', 'Calendars', 'Mailboxes', 'Mailboxes',\n",
       "       'Mailboxes', 'Messages', 'Messages', 'Messages', 'Messages',\n",
       "       'Messages', 'Messages', 'Messages', 'Messages', 'Messages',\n",
       "       'Messages', 'Messages', 'Messages', 'Messages', 'Messages',\n",
       "       'TemporaryMessages', 'TemporaryMessages', 'Threads', 'Token',\n",
       "       'food', 'RolesData', 'Inquiry', 'Inquiry', 'User', 'MessageStat',\n",
       "       'MessageStat', 'MessageStat', 'Message', 'Message', 'Thread',\n",
       "       'Thread'], dtype=object)"
      ]
     },
     "execution_count": 57,
     "metadata": {},
     "output_type": "execute_result"
    }
   ],
   "source": [
    "df_index = pd.read_sql_query('select * from index_decl', conn)\n",
    "df_index['collection_name']"
   ]
  },
  {
   "cell_type": "markdown",
   "metadata": {},
   "source": [
    "## index per project"
   ]
  },
  {
   "cell_type": "code",
   "execution_count": 80,
   "metadata": {},
   "outputs": [],
   "source": [
    "vec = df_index.groupby(['project_name']).count()['file_path']"
   ]
  },
  {
   "cell_type": "code",
   "execution_count": 81,
   "metadata": {},
   "outputs": [
    {
     "data": {
      "text/plain": [
       "1"
      ]
     },
     "execution_count": 81,
     "metadata": {},
     "output_type": "execute_result"
    }
   ],
   "source": [
    "vec.min()"
   ]
  },
  {
   "cell_type": "code",
   "execution_count": 82,
   "metadata": {},
   "outputs": [
    {
     "data": {
      "text/plain": [
       "1.0"
      ]
     },
     "execution_count": 82,
     "metadata": {},
     "output_type": "execute_result"
    }
   ],
   "source": [
    "vec.quantile(0.25)"
   ]
  },
  {
   "cell_type": "code",
   "execution_count": 83,
   "metadata": {},
   "outputs": [
    {
     "data": {
      "text/plain": [
       "2.0"
      ]
     },
     "execution_count": 83,
     "metadata": {},
     "output_type": "execute_result"
    }
   ],
   "source": [
    "vec.quantile(0.5)"
   ]
  },
  {
   "cell_type": "code",
   "execution_count": 84,
   "metadata": {},
   "outputs": [
    {
     "data": {
      "text/plain": [
       "6.0"
      ]
     },
     "execution_count": 84,
     "metadata": {},
     "output_type": "execute_result"
    }
   ],
   "source": [
    "vec.quantile(0.75)"
   ]
  },
  {
   "cell_type": "code",
   "execution_count": 85,
   "metadata": {},
   "outputs": [
    {
     "data": {
      "text/plain": [
       "133"
      ]
     },
     "execution_count": 85,
     "metadata": {},
     "output_type": "execute_result"
    }
   ],
   "source": [
    "vec.max()"
   ]
  },
  {
   "cell_type": "markdown",
   "metadata": {},
   "source": [
    "## index per collection"
   ]
  },
  {
   "cell_type": "code",
   "execution_count": 86,
   "metadata": {},
   "outputs": [],
   "source": [
    "vec = df_index.groupby(['project_name', 'collection_name']).count()['file_path']"
   ]
  },
  {
   "cell_type": "code",
   "execution_count": 87,
   "metadata": {},
   "outputs": [
    {
     "data": {
      "text/plain": [
       "1"
      ]
     },
     "execution_count": 87,
     "metadata": {},
     "output_type": "execute_result"
    }
   ],
   "source": [
    "vec.min()"
   ]
  },
  {
   "cell_type": "code",
   "execution_count": 88,
   "metadata": {},
   "outputs": [
    {
     "data": {
      "text/plain": [
       "1.0"
      ]
     },
     "execution_count": 88,
     "metadata": {},
     "output_type": "execute_result"
    }
   ],
   "source": [
    "vec.quantile(0.25)"
   ]
  },
  {
   "cell_type": "code",
   "execution_count": 89,
   "metadata": {},
   "outputs": [
    {
     "data": {
      "text/plain": [
       "1.5"
      ]
     },
     "execution_count": 89,
     "metadata": {},
     "output_type": "execute_result"
    }
   ],
   "source": [
    "vec.quantile(0.5)"
   ]
  },
  {
   "cell_type": "code",
   "execution_count": 90,
   "metadata": {},
   "outputs": [
    {
     "data": {
      "text/plain": [
       "3.0"
      ]
     },
     "execution_count": 90,
     "metadata": {},
     "output_type": "execute_result"
    }
   ],
   "source": [
    "vec.quantile(0.75)"
   ]
  },
  {
   "cell_type": "code",
   "execution_count": 91,
   "metadata": {},
   "outputs": [
    {
     "data": {
      "text/plain": [
       "14"
      ]
     },
     "execution_count": 91,
     "metadata": {},
     "output_type": "execute_result"
    }
   ],
   "source": [
    "vec.max()"
   ]
  }
 ],
 "metadata": {
  "kernelspec": {
   "display_name": "Python 3 (ipykernel)",
   "language": "python",
   "name": "python3"
  },
  "language_info": {
   "codemirror_mode": {
    "name": "ipython",
    "version": 3
   },
   "file_extension": ".py",
   "mimetype": "text/x-python",
   "name": "python",
   "nbconvert_exporter": "python",
   "pygments_lexer": "ipython3",
   "version": "3.10.12"
  }
 },
 "nbformat": 4,
 "nbformat_minor": 2
}
